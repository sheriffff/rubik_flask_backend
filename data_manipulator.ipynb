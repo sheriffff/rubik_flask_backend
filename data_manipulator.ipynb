{
 "cells": [
  {
   "cell_type": "code",
   "execution_count": 1,
   "id": "7cc27865-820b-442f-a6b6-09a39fae9779",
   "metadata": {},
   "outputs": [],
   "source": [
    "from dotenv import load_dotenv\n",
    "load_dotenv()\n",
    "\n",
    "import os\n",
    "import pymysql\n",
    "import pandas as pd"
   ]
  },
  {
   "cell_type": "markdown",
   "id": "9ac8b9d6-c386-4400-9417-a7e99f4a60cb",
   "metadata": {},
   "source": [
    "## DB Connection "
   ]
  },
  {
   "cell_type": "markdown",
   "id": "be99234e-0171-448e-86a0-b68e0d5c947f",
   "metadata": {},
   "source": [
    "Here we can reuse same connection and \"never\" close it, in an API you cannot because there can be collisions"
   ]
  },
  {
   "cell_type": "code",
   "execution_count": 61,
   "id": "2cd8dd30-0a19-4fc7-b6b7-547381f46f9f",
   "metadata": {},
   "outputs": [],
   "source": [
    "connection = pymysql.connect(\n",
    "    host='82.223.54.117',\n",
    "    port=3306,\n",
    "    user='flutter_app',\n",
    "    password=os.environ[\"MARIA_DB_PASS\"],\n",
    "    database='rubik_app_db'\n",
    ")"
   ]
  },
  {
   "cell_type": "markdown",
   "id": "cdd12b02-946f-49cd-8cdd-4e17c6e7e8a6",
   "metadata": {},
   "source": [
    "## Dump data"
   ]
  },
  {
   "cell_type": "code",
   "execution_count": null,
   "id": "b9316f1b-9f0e-4e29-9397-d040e92eb2d4",
   "metadata": {},
   "outputs": [],
   "source": []
  },
  {
   "cell_type": "markdown",
   "id": "8c2a2c19-7b3c-46e8-9257-71b3d1262ea8",
   "metadata": {},
   "source": [
    "## Read data"
   ]
  },
  {
   "cell_type": "code",
   "execution_count": 4,
   "id": "9dc2ed84-162c-455f-a7e0-b422f1f31eb2",
   "metadata": {},
   "outputs": [],
   "source": [
    "comms_guille = pd.read_csv(\"./test_comms.csv\")"
   ]
  },
  {
   "cell_type": "code",
   "execution_count": 21,
   "id": "4498368a-d4ef-4f36-87ed-2ee44497cf0f",
   "metadata": {},
   "outputs": [
    {
     "data": {
      "text/html": [
       "<div>\n",
       "<style scoped>\n",
       "    .dataframe tbody tr th:only-of-type {\n",
       "        vertical-align: middle;\n",
       "    }\n",
       "\n",
       "    .dataframe tbody tr th {\n",
       "        vertical-align: top;\n",
       "    }\n",
       "\n",
       "    .dataframe thead th {\n",
       "        text-align: right;\n",
       "    }\n",
       "</style>\n",
       "<table border=\"1\" class=\"dataframe\">\n",
       "  <thead>\n",
       "    <tr style=\"text-align: right;\">\n",
       "      <th></th>\n",
       "      <th>first_letter</th>\n",
       "      <th>second_letter</th>\n",
       "      <th>commutator</th>\n",
       "    </tr>\n",
       "  </thead>\n",
       "  <tbody>\n",
       "    <tr>\n",
       "      <th>0</th>\n",
       "      <td>R</td>\n",
       "      <td>C</td>\n",
       "      <td>(Can U. RB.) U</td>\n",
       "    </tr>\n",
       "    <tr>\n",
       "      <th>1</th>\n",
       "      <td>C</td>\n",
       "      <td>R</td>\n",
       "      <td>U' (BR. Can U'.)</td>\n",
       "    </tr>\n",
       "    <tr>\n",
       "      <th>2</th>\n",
       "      <td>R</td>\n",
       "      <td>K</td>\n",
       "      <td>u (HZ.) u'</td>\n",
       "    </tr>\n",
       "    <tr>\n",
       "      <th>3</th>\n",
       "      <td>K</td>\n",
       "      <td>R</td>\n",
       "      <td>u (ZH.) u'</td>\n",
       "    </tr>\n",
       "    <tr>\n",
       "      <th>4</th>\n",
       "      <td>K</td>\n",
       "      <td>M</td>\n",
       "      <td>R U' M2 U R2 U' M2 U R</td>\n",
       "    </tr>\n",
       "  </tbody>\n",
       "</table>\n",
       "</div>"
      ],
      "text/plain": [
       "  first_letter second_letter              commutator\n",
       "0            R             C          (Can U. RB.) U\n",
       "1            C             R        U' (BR. Can U'.)\n",
       "2            R             K              u (HZ.) u'\n",
       "3            K             R              u (ZH.) u'\n",
       "4            K             M  R U' M2 U R2 U' M2 U R"
      ]
     },
     "execution_count": 21,
     "metadata": {},
     "output_type": "execute_result"
    }
   ],
   "source": [
    "comms_guille.head()"
   ]
  },
  {
   "cell_type": "code",
   "execution_count": 50,
   "id": "87dc3a5a-2692-4bec-b91a-f56b2c3d5568",
   "metadata": {},
   "outputs": [
    {
     "name": "stderr",
     "output_type": "stream",
     "text": [
      "/tmp/ipykernel_15067/3833963140.py:1: UserWarning: pandas only supports SQLAlchemy connectable (engine/connection) or database string URI or sqlite3 DBAPI2 connection. Other DBAPI2 objects are not tested. Please consider using SQLAlchemy.\n",
      "  pd.read_sql(\"SELECT * FROM edges_stickers\", connection).head()\n"
     ]
    },
    {
     "data": {
      "text/html": [
       "<div>\n",
       "<style scoped>\n",
       "    .dataframe tbody tr th:only-of-type {\n",
       "        vertical-align: middle;\n",
       "    }\n",
       "\n",
       "    .dataframe tbody tr th {\n",
       "        vertical-align: top;\n",
       "    }\n",
       "\n",
       "    .dataframe thead th {\n",
       "        text-align: right;\n",
       "    }\n",
       "</style>\n",
       "<table border=\"1\" class=\"dataframe\">\n",
       "  <thead>\n",
       "    <tr style=\"text-align: right;\">\n",
       "      <th></th>\n",
       "      <th>id</th>\n",
       "      <th>user_name</th>\n",
       "      <th>sticker</th>\n",
       "      <th>letter</th>\n",
       "    </tr>\n",
       "  </thead>\n",
       "  <tbody>\n",
       "    <tr>\n",
       "      <th>0</th>\n",
       "      <td>1</td>\n",
       "      <td>sheriff</td>\n",
       "      <td>UR</td>\n",
       "      <td>Te</td>\n",
       "    </tr>\n",
       "    <tr>\n",
       "      <th>1</th>\n",
       "      <td>2</td>\n",
       "      <td>sheriff</td>\n",
       "      <td>UL</td>\n",
       "      <td>Ta</td>\n",
       "    </tr>\n",
       "    <tr>\n",
       "      <th>2</th>\n",
       "      <td>3</td>\n",
       "      <td>sheriff</td>\n",
       "      <td>UF</td>\n",
       "      <td>Ɐ</td>\n",
       "    </tr>\n",
       "    <tr>\n",
       "      <th>3</th>\n",
       "      <td>4</td>\n",
       "      <td>sheriff</td>\n",
       "      <td>UB</td>\n",
       "      <td>Ka</td>\n",
       "    </tr>\n",
       "    <tr>\n",
       "      <th>4</th>\n",
       "      <td>5</td>\n",
       "      <td>sheriff</td>\n",
       "      <td>RU</td>\n",
       "      <td>Kʊ</td>\n",
       "    </tr>\n",
       "  </tbody>\n",
       "</table>\n",
       "</div>"
      ],
      "text/plain": [
       "   id user_name sticker letter\n",
       "0   1   sheriff      UR     Te\n",
       "1   2   sheriff      UL     Ta\n",
       "2   3   sheriff      UF      Ɐ\n",
       "3   4   sheriff      UB     Ka\n",
       "4   5   sheriff      RU     Kʊ"
      ]
     },
     "execution_count": 50,
     "metadata": {},
     "output_type": "execute_result"
    }
   ],
   "source": [
    "pd.read_sql(\"SELECT * FROM edges_stickers\", connection).head()"
   ]
  },
  {
   "cell_type": "code",
   "execution_count": null,
   "id": "501074c7-2994-4e2d-8daa-30859c4c06dc",
   "metadata": {},
   "outputs": [],
   "source": []
  },
  {
   "cell_type": "markdown",
   "id": "88c6899e-43c1-4f2e-8c4a-64b0796c3a57",
   "metadata": {},
   "source": [
    "## Limpiar conmutadores"
   ]
  },
  {
   "cell_type": "markdown",
   "id": "adf68d27-de30-477e-bea7-b9d7c08d708c",
   "metadata": {},
   "source": [
    "Quitar la palabra 'Can', quitar puntos, etc"
   ]
  },
  {
   "cell_type": "code",
   "execution_count": 88,
   "id": "94d0e51d-bf5a-45a6-825d-96ef26ecf9db",
   "metadata": {},
   "outputs": [],
   "source": [
    "import re"
   ]
  },
  {
   "cell_type": "code",
   "execution_count": 92,
   "id": "f0207721-2452-46af-93b6-2a5badedef27",
   "metadata": {},
   "outputs": [],
   "source": [
    "def remove_cancellations(commutator: str) -> str:\n",
    "    \"\"\"\n",
    "    Turns \n",
    "        (Can U. RB.) U      into\n",
    "        U' (RB.) U\n",
    "    \"\"\"\n",
    "    commutator = re.sub(r'\\(Can (\\w)\\.\\s*', r\"\\1' (\", commutator)\n",
    "    commutator = re.sub(r'\\(Can (\\w)\\'\\.\\s*', r\"\\1 (\", commutator)\n",
    "    commutator = re.sub(r'\\(BR\\. Can (\\w)\\'\\.\\)', r\"(BR.) \\1\", commutator)    \n",
    "    commutator = re.sub(r'\\(BR\\. Can (\\w)\\.\\)', r\"(BR.) \\1'\", commutator)\n",
    "    \n",
    "    return commutator"
   ]
  },
  {
   "cell_type": "code",
   "execution_count": 91,
   "id": "2f3a3915-e979-4bbe-b3fe-1c2d3d37021f",
   "metadata": {},
   "outputs": [],
   "source": [
    "def remove_period(commutator):\n",
    "    \"\"\"\n",
    "    Turns \n",
    "        U' (RB.) U   into\n",
    "        U' (RB) U\n",
    "    \"\"\"\n",
    "    return re.sub(r'\\((\\w{2})\\.\\)', r'(\\1)', commutator)"
   ]
  },
  {
   "cell_type": "code",
   "execution_count": 40,
   "id": "9c05235f-ce42-4356-9f69-093c0b63e63f",
   "metadata": {},
   "outputs": [],
   "source": [
    "fns = [lambda x: x, remove_cancellations, remove_period]"
   ]
  },
  {
   "cell_type": "code",
   "execution_count": 41,
   "id": "be6958c8-db5e-49bd-aa22-acf421e70d61",
   "metadata": {},
   "outputs": [],
   "source": [
    "def clean_commmutator(commutator, verbose=False):\n",
    "    for f in fns:\n",
    "        commutator = f(commutator)\n",
    "        \n",
    "        if verbose:\n",
    "            print(commutator)\n",
    "\n",
    "    return commutator"
   ]
  },
  {
   "cell_type": "code",
   "execution_count": 96,
   "id": "5e33db1f-18a1-4e14-b56f-922b979ee2bf",
   "metadata": {},
   "outputs": [
    {
     "name": "stdout",
     "output_type": "stream",
     "text": [
      "U' (RB) U\n"
     ]
    }
   ],
   "source": [
    "print(clean_commmutator(\"(Can U. RB.) U\"))"
   ]
  },
  {
   "cell_type": "code",
   "execution_count": 43,
   "id": "08736823-66b7-4503-afe9-fb12ba30b761",
   "metadata": {},
   "outputs": [],
   "source": [
    "comms_guille[\"clean_commutator\"] = comms_guille.commutator.apply(clean_commmutator)"
   ]
  },
  {
   "cell_type": "code",
   "execution_count": 45,
   "id": "090a4b50-ed84-47a9-a2e0-9dc9d31181a3",
   "metadata": {},
   "outputs": [
    {
     "data": {
      "text/html": [
       "<div>\n",
       "<style scoped>\n",
       "    .dataframe tbody tr th:only-of-type {\n",
       "        vertical-align: middle;\n",
       "    }\n",
       "\n",
       "    .dataframe tbody tr th {\n",
       "        vertical-align: top;\n",
       "    }\n",
       "\n",
       "    .dataframe thead th {\n",
       "        text-align: right;\n",
       "    }\n",
       "</style>\n",
       "<table border=\"1\" class=\"dataframe\">\n",
       "  <thead>\n",
       "    <tr style=\"text-align: right;\">\n",
       "      <th></th>\n",
       "      <th>first_letter</th>\n",
       "      <th>second_letter</th>\n",
       "      <th>commutator</th>\n",
       "      <th>clean_commutator</th>\n",
       "    </tr>\n",
       "  </thead>\n",
       "  <tbody>\n",
       "    <tr>\n",
       "      <th>0</th>\n",
       "      <td>R</td>\n",
       "      <td>C</td>\n",
       "      <td>(Can U. RB.) U</td>\n",
       "      <td>U' (RB) U</td>\n",
       "    </tr>\n",
       "    <tr>\n",
       "      <th>1</th>\n",
       "      <td>C</td>\n",
       "      <td>R</td>\n",
       "      <td>U' (BR. Can U'.)</td>\n",
       "      <td>U' (BR) U</td>\n",
       "    </tr>\n",
       "    <tr>\n",
       "      <th>2</th>\n",
       "      <td>R</td>\n",
       "      <td>K</td>\n",
       "      <td>u (HZ.) u'</td>\n",
       "      <td>u (HZ) u'</td>\n",
       "    </tr>\n",
       "    <tr>\n",
       "      <th>3</th>\n",
       "      <td>K</td>\n",
       "      <td>R</td>\n",
       "      <td>u (ZH.) u'</td>\n",
       "      <td>u (ZH) u'</td>\n",
       "    </tr>\n",
       "    <tr>\n",
       "      <th>4</th>\n",
       "      <td>K</td>\n",
       "      <td>M</td>\n",
       "      <td>R U' M2 U R2 U' M2 U R</td>\n",
       "      <td>R U' M2 U R2 U' M2 U R</td>\n",
       "    </tr>\n",
       "  </tbody>\n",
       "</table>\n",
       "</div>"
      ],
      "text/plain": [
       "  first_letter second_letter              commutator        clean_commutator\n",
       "0            R             C          (Can U. RB.) U               U' (RB) U\n",
       "1            C             R        U' (BR. Can U'.)               U' (BR) U\n",
       "2            R             K              u (HZ.) u'               u (HZ) u'\n",
       "3            K             R              u (ZH.) u'               u (ZH) u'\n",
       "4            K             M  R U' M2 U R2 U' M2 U R  R U' M2 U R2 U' M2 U R"
      ]
     },
     "execution_count": 45,
     "metadata": {},
     "output_type": "execute_result"
    }
   ],
   "source": [
    "comms_guille.head()"
   ]
  },
  {
   "cell_type": "code",
   "execution_count": null,
   "id": "9a60dd88-eb85-4ccc-ac5f-3bc2f5f1e4bd",
   "metadata": {},
   "outputs": [],
   "source": []
  },
  {
   "cell_type": "markdown",
   "id": "b4e584ee-e76f-4b42-aacd-3618f2d32503",
   "metadata": {},
   "source": [
    "## Generalizar conmutadores"
   ]
  },
  {
   "cell_type": "markdown",
   "id": "427638b7-bb55-4123-91a5-0c1a0a39d1e5",
   "metadata": {},
   "source": [
    "### Edges"
   ]
  },
  {
   "cell_type": "markdown",
   "id": "99680d55-ffa5-40d0-a3fe-24070177619c",
   "metadata": {},
   "source": [
    "De las letras de Guille a sticker: B -> UB"
   ]
  },
  {
   "cell_type": "markdown",
   "id": "85eebc87-f708-4536-b07f-994fa63a384f",
   "metadata": {},
   "source": [
    "Necesitan previa limpia"
   ]
  },
  {
   "cell_type": "code",
   "execution_count": 65,
   "id": "982707d6-2282-4553-ba6c-a913e00738d6",
   "metadata": {},
   "outputs": [
    {
     "name": "stderr",
     "output_type": "stream",
     "text": [
      "/tmp/ipykernel_15067/3287416019.py:1: UserWarning: pandas only supports SQLAlchemy connectable (engine/connection) or database string URI or sqlite3 DBAPI2 connection. Other DBAPI2 objects are not tested. Please consider using SQLAlchemy.\n",
      "  letters_guille = pd.read_sql(\"SELECT sticker, letter FROM edges_stickers WHERE user_name='flygorithm'\", connection).set_index(\"letter\").sticker\n"
     ]
    }
   ],
   "source": [
    "letters_guille = pd.read_sql(\"SELECT sticker, letter FROM edges_stickers WHERE user_name='flygorithm'\", connection).set_index(\"letter\").sticker"
   ]
  },
  {
   "cell_type": "code",
   "execution_count": 87,
   "id": "84532af9-488d-4435-88bd-6d453ba8e5f0",
   "metadata": {},
   "outputs": [
    {
     "data": {
      "text/plain": [
       "letter\n",
       "C    UR\n",
       "N    UL\n",
       "S    UF\n",
       "B    UB\n",
       "K    RU\n",
       "Name: sticker, dtype: object"
      ]
     },
     "execution_count": 87,
     "metadata": {},
     "output_type": "execute_result"
    }
   ],
   "source": [
    "letters_guille.head()"
   ]
  },
  {
   "cell_type": "code",
   "execution_count": 93,
   "id": "2dfca606-bd94-44bf-8173-ccc2ff3867f5",
   "metadata": {},
   "outputs": [],
   "source": [
    "def commutator_to_sticker_commutator(commutator):\n",
    "    \"\"\"\n",
    "    Turns \n",
    "        U' (RB) U         into\n",
    "        U' {FR,UB} U\t\n",
    "    \"\"\"\n",
    "    if \"(\" not in commutator:\n",
    "        return commutator\n",
    "\n",
    "    pre, rest = commutator.split(\"(\")\n",
    "    inside, post = rest.split(\")\")\n",
    "    first_letter, second_letter = inside\n",
    "\n",
    "    first_sticker = letters_guille[first_letter]\n",
    "    second_sticker = letters_guille[second_letter]\n",
    "\n",
    "    return f\"{pre}{{{first_sticker},{second_sticker}}}{post}\""
   ]
  },
  {
   "cell_type": "code",
   "execution_count": 98,
   "id": "21c374a1-a3f2-4239-84b8-ad007bde4759",
   "metadata": {},
   "outputs": [
    {
     "name": "stdout",
     "output_type": "stream",
     "text": [
      "U' {FR,UB} U\n"
     ]
    }
   ],
   "source": [
    "print(commutator_to_sticker_commutator(\"U' (RB) U\"))"
   ]
  },
  {
   "cell_type": "code",
   "execution_count": 98,
   "id": "4a9ca577-402e-4563-901e-b5c37f1cd154",
   "metadata": {},
   "outputs": [
    {
     "name": "stdout",
     "output_type": "stream",
     "text": [
      "U' {FR,UB} U\n"
     ]
    }
   ],
   "source": [
    "print(commutator_to_sticker_commutator(\"U' (RB) U\"))"
   ]
  },
  {
   "cell_type": "code",
   "execution_count": 76,
   "id": "cd964a48-659b-4896-a59d-65e6f1732298",
   "metadata": {},
   "outputs": [],
   "source": [
    "comms_guille[\"commutator_stickers\"] = comms_guille.clean_commutator.apply(commutator_to_sticker_commutator)"
   ]
  },
  {
   "cell_type": "code",
   "execution_count": 79,
   "id": "deffc064-3f74-415a-a3e9-d26264fe3939",
   "metadata": {},
   "outputs": [],
   "source": [
    "comms_guille[\"first_sticker\"] = comms_guille.first_letter.apply(lambda l: letters_guille[l])"
   ]
  },
  {
   "cell_type": "code",
   "execution_count": 80,
   "id": "828cbb85-e7b1-42e5-933e-8234ecf1c459",
   "metadata": {},
   "outputs": [],
   "source": [
    "comms_guille[\"second_sticker\"] = comms_guille.second_letter.apply(lambda l: letters_guille[l])"
   ]
  },
  {
   "cell_type": "code",
   "execution_count": 85,
   "id": "8c903e40-9441-4d19-ba8e-9f97efdf4d12",
   "metadata": {},
   "outputs": [
    {
     "data": {
      "text/html": [
       "<div>\n",
       "<style scoped>\n",
       "    .dataframe tbody tr th:only-of-type {\n",
       "        vertical-align: middle;\n",
       "    }\n",
       "\n",
       "    .dataframe tbody tr th {\n",
       "        vertical-align: top;\n",
       "    }\n",
       "\n",
       "    .dataframe thead th {\n",
       "        text-align: right;\n",
       "    }\n",
       "</style>\n",
       "<table border=\"1\" class=\"dataframe\">\n",
       "  <thead>\n",
       "    <tr style=\"text-align: right;\">\n",
       "      <th></th>\n",
       "      <th>first_letter</th>\n",
       "      <th>second_letter</th>\n",
       "      <th>commutator</th>\n",
       "      <th>clean_commutator</th>\n",
       "      <th>commutator_stickers</th>\n",
       "      <th>first_sticker</th>\n",
       "      <th>second_sticker</th>\n",
       "    </tr>\n",
       "  </thead>\n",
       "  <tbody>\n",
       "    <tr>\n",
       "      <th>0</th>\n",
       "      <td>R</td>\n",
       "      <td>C</td>\n",
       "      <td>(Can U. RB.) U</td>\n",
       "      <td>U' (RB) U</td>\n",
       "      <td>U' {FR,UB} U</td>\n",
       "      <td>FR</td>\n",
       "      <td>UR</td>\n",
       "    </tr>\n",
       "    <tr>\n",
       "      <th>1</th>\n",
       "      <td>C</td>\n",
       "      <td>R</td>\n",
       "      <td>U' (BR. Can U'.)</td>\n",
       "      <td>U' (BR) U</td>\n",
       "      <td>U' {UB,FR} U</td>\n",
       "      <td>UR</td>\n",
       "      <td>FR</td>\n",
       "    </tr>\n",
       "    <tr>\n",
       "      <th>2</th>\n",
       "      <td>R</td>\n",
       "      <td>K</td>\n",
       "      <td>u (HZ.) u'</td>\n",
       "      <td>u (HZ) u'</td>\n",
       "      <td>u {LF,FU} u'</td>\n",
       "      <td>FR</td>\n",
       "      <td>RU</td>\n",
       "    </tr>\n",
       "    <tr>\n",
       "      <th>3</th>\n",
       "      <td>K</td>\n",
       "      <td>R</td>\n",
       "      <td>u (ZH.) u'</td>\n",
       "      <td>u (ZH) u'</td>\n",
       "      <td>u {FU,LF} u'</td>\n",
       "      <td>RU</td>\n",
       "      <td>FR</td>\n",
       "    </tr>\n",
       "    <tr>\n",
       "      <th>4</th>\n",
       "      <td>K</td>\n",
       "      <td>M</td>\n",
       "      <td>R U' M2 U R2 U' M2 U R</td>\n",
       "      <td>R U' M2 U R2 U' M2 U R</td>\n",
       "      <td>R U' M2 U R2 U' M2 U R</td>\n",
       "      <td>RU</td>\n",
       "      <td>BR</td>\n",
       "    </tr>\n",
       "    <tr>\n",
       "      <th>5</th>\n",
       "      <td>R</td>\n",
       "      <td>R</td>\n",
       "      <td>R' U' M2 U R U' M2 U R'</td>\n",
       "      <td>R' U' M2 U R U' M2 U R'</td>\n",
       "      <td>R' U' M2 U R U' M2 U R'</td>\n",
       "      <td>FR</td>\n",
       "      <td>FR</td>\n",
       "    </tr>\n",
       "    <tr>\n",
       "      <th>6</th>\n",
       "      <td>M</td>\n",
       "      <td>W</td>\n",
       "      <td>z' U' R U M U' R' U M' z</td>\n",
       "      <td>z' U' R U M U' R' U M' z</td>\n",
       "      <td>z' U' R U M U' R' U M' z</td>\n",
       "      <td>BR</td>\n",
       "      <td>RB</td>\n",
       "    </tr>\n",
       "    <tr>\n",
       "      <th>7</th>\n",
       "      <td>R</td>\n",
       "      <td>R</td>\n",
       "      <td>z' M U' R U M' U' R' U z</td>\n",
       "      <td>z' M U' R U M' U' R' U z</td>\n",
       "      <td>z' M U' R U M' U' R' U z</td>\n",
       "      <td>FR</td>\n",
       "      <td>FR</td>\n",
       "    </tr>\n",
       "    <tr>\n",
       "      <th>8</th>\n",
       "      <td>W</td>\n",
       "      <td>R</td>\n",
       "      <td>R U' M2 U R U' M2 U R2</td>\n",
       "      <td>R U' M2 U R U' M2 U R2</td>\n",
       "      <td>R U' M2 U R U' M2 U R2</td>\n",
       "      <td>RB</td>\n",
       "      <td>FR</td>\n",
       "    </tr>\n",
       "    <tr>\n",
       "      <th>9</th>\n",
       "      <td>W</td>\n",
       "      <td>R</td>\n",
       "      <td>R2 U' M2 U R' U' M2 U R'</td>\n",
       "      <td>R2 U' M2 U R' U' M2 U R'</td>\n",
       "      <td>R2 U' M2 U R' U' M2 U R'</td>\n",
       "      <td>RB</td>\n",
       "      <td>FR</td>\n",
       "    </tr>\n",
       "  </tbody>\n",
       "</table>\n",
       "</div>"
      ],
      "text/plain": [
       "  first_letter second_letter                commutator  \\\n",
       "0            R             C            (Can U. RB.) U   \n",
       "1            C             R          U' (BR. Can U'.)   \n",
       "2            R             K                u (HZ.) u'   \n",
       "3            K             R                u (ZH.) u'   \n",
       "4            K             M    R U' M2 U R2 U' M2 U R   \n",
       "5            R             R   R' U' M2 U R U' M2 U R'   \n",
       "6            M             W  z' U' R U M U' R' U M' z   \n",
       "7            R             R  z' M U' R U M' U' R' U z   \n",
       "8            W             R    R U' M2 U R U' M2 U R2   \n",
       "9            W             R  R2 U' M2 U R' U' M2 U R'   \n",
       "\n",
       "           clean_commutator       commutator_stickers first_sticker  \\\n",
       "0                 U' (RB) U              U' {FR,UB} U            FR   \n",
       "1                 U' (BR) U              U' {UB,FR} U            UR   \n",
       "2                 u (HZ) u'              u {LF,FU} u'            FR   \n",
       "3                 u (ZH) u'              u {FU,LF} u'            RU   \n",
       "4    R U' M2 U R2 U' M2 U R    R U' M2 U R2 U' M2 U R            RU   \n",
       "5   R' U' M2 U R U' M2 U R'   R' U' M2 U R U' M2 U R'            FR   \n",
       "6  z' U' R U M U' R' U M' z  z' U' R U M U' R' U M' z            BR   \n",
       "7  z' M U' R U M' U' R' U z  z' M U' R U M' U' R' U z            FR   \n",
       "8    R U' M2 U R U' M2 U R2    R U' M2 U R U' M2 U R2            RB   \n",
       "9  R2 U' M2 U R' U' M2 U R'  R2 U' M2 U R' U' M2 U R'            RB   \n",
       "\n",
       "  second_sticker  \n",
       "0             UR  \n",
       "1             FR  \n",
       "2             RU  \n",
       "3             FR  \n",
       "4             BR  \n",
       "5             FR  \n",
       "6             RB  \n",
       "7             FR  \n",
       "8             FR  \n",
       "9             FR  "
      ]
     },
     "execution_count": 85,
     "metadata": {},
     "output_type": "execute_result"
    }
   ],
   "source": [
    "comms_guille.head(10)"
   ]
  },
  {
   "cell_type": "markdown",
   "id": "686fece5-cf90-4da7-808c-820e621c378d",
   "metadata": {},
   "source": [
    "Ahora ya se pueden dumpear a DDBB"
   ]
  },
  {
   "cell_type": "code",
   "execution_count": 103,
   "id": "562f5123-3ffc-41c2-9017-f99d7f62ddd5",
   "metadata": {},
   "outputs": [
    {
     "data": {
      "text/plain": [
       "\"   first_letter second_letter                commutator          clean_commutator       commutator_stickers first_sticker second_sticker\\n0             R             C            (Can U. RB.) U                 U' (RB) U              U' {FR,UB} U            FR             UR\\n1             C             R          U' (BR. Can U'.)                 U' (BR) U              U' {UB,FR} U            UR             FR\\n2             R             K                u (HZ.) u'                 u (HZ) u'              u {LF,FU} u'            FR             RU\\n3             K             R                u (ZH.) u'                 u (ZH) u'              u {FU,LF} u'            RU             FR\\n4             K             M    R U' M2 U R2 U' M2 U R    R U' M2 U R2 U' M2 U R    R U' M2 U R2 U' M2 U R            RU             BR\\n5             R             R   R' U' M2 U R U' M2 U R'   R' U' M2 U R U' M2 U R'   R' U' M2 U R U' M2 U R'            FR             FR\\n6             M             W  z' U' R U M U' R' U M' z  z' U' R U M U' R' U M' z  z' U' R U M U' R' U M' z            BR             RB\\n7             R             R  z' M U' R U M' U' R' U z  z' M U' R U M' U' R' U z  z' M U' R U M' U' R' U z            FR             FR\\n8             W             R    R U' M2 U R U' M2 U R2    R U' M2 U R U' M2 U R2    R U' M2 U R U' M2 U R2            RB             FR\\n9             W             R  R2 U' M2 U R' U' M2 U R'  R2 U' M2 U R' U' M2 U R'  R2 U' M2 U R' U' M2 U R'            RB             FR\\n10            R             J    R U' M2 U R U' M2 U R2    R U' M2 U R U' M2 U R2    R U' M2 U R U' M2 U R2            FR             DR\\n11            J             R  R2 U' M2 U R' U' M2 U R'  R2 U' M2 U R' U' M2 U R'  R2 U' M2 U R' U' M2 U R'            DR             FR\\n12            R             L          u' R' (KW.) R u.           u' R' (KW) R u.        u' R' {RU,RB} R u.            FR             RD\\n13            L             R          u' R' (WK.) R u.           u' R' (WK) R u.        u' R' {RB,RU} R u.            RD             FR\""
      ]
     },
     "execution_count": 103,
     "metadata": {},
     "output_type": "execute_result"
    }
   ],
   "source": [
    "comms_guille"
   ]
  },
  {
   "cell_type": "code",
   "execution_count": null,
   "id": "ed7edf3b-ace2-4d15-a92d-bcdb57e44490",
   "metadata": {},
   "outputs": [],
   "source": []
  }
 ],
 "metadata": {
  "kernelspec": {
   "display_name": "Python 3 (ipykernel)",
   "language": "python",
   "name": "python3"
  },
  "language_info": {
   "codemirror_mode": {
    "name": "ipython",
    "version": 3
   },
   "file_extension": ".py",
   "mimetype": "text/x-python",
   "name": "python",
   "nbconvert_exporter": "python",
   "pygments_lexer": "ipython3",
   "version": "3.10.12"
  }
 },
 "nbformat": 4,
 "nbformat_minor": 5
}
